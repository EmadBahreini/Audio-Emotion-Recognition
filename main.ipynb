{
 "cells": [
  {
   "cell_type": "code",
   "execution_count": 14,
   "metadata": {},
   "outputs": [],
   "source": [
    "# %matplotlib widget\n",
    "\n",
    "import os\n",
    "import pandas as pd\n",
    "import numpy as np\n",
    "import librosa\n",
    "from librosa import display\n",
    "import matplotlib.pyplot as plt\n",
    "import seaborn as sns\n",
    "import wave\n",
    "import contextlib"
   ]
  },
  {
   "cell_type": "markdown",
   "metadata": {},
   "source": [
    "# 1. Preprocessing\n"
   ]
  },
  {
   "cell_type": "code",
   "execution_count": 3,
   "metadata": {},
   "outputs": [],
   "source": [
    "ravdess_data = \"data/RAVDESS/Speech/\""
   ]
  },
  {
   "cell_type": "code",
   "execution_count": 4,
   "metadata": {},
   "outputs": [],
   "source": [
    "def extract_labels(file_name):\n",
    "    parts = file_name.split('-')\n",
    "    emotion = int(parts[2])  # Emotion is the third part\n",
    "    return emotion\n",
    "\n",
    "def label_to_emotion(label):\n",
    "    if label == 1:\n",
    "        return \"neutral\"\n",
    "    elif label == 2:\n",
    "        return \"calm\"\n",
    "    elif label == 3:\n",
    "        return \"happy\"\n",
    "    elif label == 4:\n",
    "        return \"sad\"\n",
    "    elif label == 5:\n",
    "        return \"angry\"\n",
    "    elif label == 6:\n",
    "        return \"fearful\"\n",
    "    elif label == 7:\n",
    "        return \"disgust\"\n",
    "    elif label == 8:\n",
    "        return \"surprised\"\n",
    "    else:\n",
    "        return \"unknown\"\n",
    "\n",
    "def create_dataframe(directory):\n",
    "    data = []\n",
    "    for root, _, files in os.walk(directory):\n",
    "        for file in files:\n",
    "            if file.endswith(\".wav\"):\n",
    "                file_path = os.path.join(root, file)\n",
    "                label = extract_labels(file)\n",
    "                emotion = label_to_emotion(label)\n",
    "                data.append({\"FilePath\": file_path, \"Emotion\": emotion, \"Label\": label})\n",
    "    df = pd.DataFrame(data)\n",
    "    return df"
   ]
  },
  {
   "cell_type": "code",
   "execution_count": 5,
   "metadata": {},
   "outputs": [],
   "source": [
    "dataframe = create_dataframe(ravdess_data)"
   ]
  },
  {
   "cell_type": "code",
   "execution_count": 6,
   "metadata": {},
   "outputs": [
    {
     "data": {
      "text/html": [
       "<div>\n",
       "<style scoped>\n",
       "    .dataframe tbody tr th:only-of-type {\n",
       "        vertical-align: middle;\n",
       "    }\n",
       "\n",
       "    .dataframe tbody tr th {\n",
       "        vertical-align: top;\n",
       "    }\n",
       "\n",
       "    .dataframe thead th {\n",
       "        text-align: right;\n",
       "    }\n",
       "</style>\n",
       "<table border=\"1\" class=\"dataframe\">\n",
       "  <thead>\n",
       "    <tr style=\"text-align: right;\">\n",
       "      <th></th>\n",
       "      <th>FilePath</th>\n",
       "      <th>Emotion</th>\n",
       "      <th>Label</th>\n",
       "    </tr>\n",
       "  </thead>\n",
       "  <tbody>\n",
       "    <tr>\n",
       "      <th>0</th>\n",
       "      <td>data/RAVDESS/Speech/Actor_16/03-01-05-01-02-01...</td>\n",
       "      <td>angry</td>\n",
       "      <td>5</td>\n",
       "    </tr>\n",
       "    <tr>\n",
       "      <th>1</th>\n",
       "      <td>data/RAVDESS/Speech/Actor_16/03-01-06-01-02-02...</td>\n",
       "      <td>fearful</td>\n",
       "      <td>6</td>\n",
       "    </tr>\n",
       "    <tr>\n",
       "      <th>2</th>\n",
       "      <td>data/RAVDESS/Speech/Actor_16/03-01-06-02-01-02...</td>\n",
       "      <td>fearful</td>\n",
       "      <td>6</td>\n",
       "    </tr>\n",
       "    <tr>\n",
       "      <th>3</th>\n",
       "      <td>data/RAVDESS/Speech/Actor_16/03-01-05-02-01-01...</td>\n",
       "      <td>angry</td>\n",
       "      <td>5</td>\n",
       "    </tr>\n",
       "    <tr>\n",
       "      <th>4</th>\n",
       "      <td>data/RAVDESS/Speech/Actor_16/03-01-07-01-01-01...</td>\n",
       "      <td>disgust</td>\n",
       "      <td>7</td>\n",
       "    </tr>\n",
       "  </tbody>\n",
       "</table>\n",
       "</div>"
      ],
      "text/plain": [
       "                                            FilePath  Emotion  Label\n",
       "0  data/RAVDESS/Speech/Actor_16/03-01-05-01-02-01...    angry      5\n",
       "1  data/RAVDESS/Speech/Actor_16/03-01-06-01-02-02...  fearful      6\n",
       "2  data/RAVDESS/Speech/Actor_16/03-01-06-02-01-02...  fearful      6\n",
       "3  data/RAVDESS/Speech/Actor_16/03-01-05-02-01-01...    angry      5\n",
       "4  data/RAVDESS/Speech/Actor_16/03-01-07-01-01-01...  disgust      7"
      ]
     },
     "execution_count": 6,
     "metadata": {},
     "output_type": "execute_result"
    }
   ],
   "source": [
    "dataframe.head()"
   ]
  },
  {
   "cell_type": "code",
   "execution_count": 7,
   "metadata": {},
   "outputs": [
    {
     "name": "stdout",
     "output_type": "stream",
     "text": [
      "Emotion\n",
      "angry        192\n",
      "fearful      192\n",
      "disgust      192\n",
      "sad          192\n",
      "surprised    192\n",
      "happy        192\n",
      "calm         192\n",
      "neutral       96\n",
      "Name: count, dtype: int64\n"
     ]
    }
   ],
   "source": [
    "print(dataframe.Emotion.value_counts())\n"
   ]
  },
  {
   "cell_type": "markdown",
   "metadata": {},
   "source": [
    "# 2. Data Visualisation and Exploration"
   ]
  },
  {
   "cell_type": "code",
   "execution_count": 8,
   "metadata": {},
   "outputs": [
    {
     "data": {
      "text/plain": [
       "FilePath    1440\n",
       "Emotion     1440\n",
       "Label       1440\n",
       "dtype: int64"
      ]
     },
     "execution_count": 8,
     "metadata": {},
     "output_type": "execute_result"
    }
   ],
   "source": [
    "dataframe.count()"
   ]
  },
  {
   "cell_type": "code",
   "execution_count": 9,
   "metadata": {},
   "outputs": [
    {
     "data": {
      "image/png": "[encoded data removed]",
      "text/plain": [
       "<Figure size 800x400 with 1 Axes>"
      ]
     },
     "metadata": {},
     "output_type": "display_data"
    }
   ],
   "source": [
    "plt.figure(figsize=(8, 4))\n",
    "sns.countplot(data=dataframe, x=\"Emotion\")\n",
    "plt.title(\"Emotion Distribution\")\n",
    "plt.show()"
   ]
  },
  {
   "cell_type": "markdown",
   "metadata": {},
   "source": [
    "**Check the sampling rate of one random file to make sure it is the same as the one mentioned on the database website.**"
   ]
  },
  {
   "cell_type": "code",
   "execution_count": 10,
   "metadata": {},
   "outputs": [
    {
     "name": "stdout",
     "output_type": "stream",
     "text": [
      "Sampling rate: 48000 Hz\n"
     ]
    }
   ],
   "source": [
    "sampling_rate = 0\n",
    "with contextlib.closing(wave.open(dataframe.FilePath[6], 'r')) as wav_file:\n",
    "    sampling_rate = wav_file.getframerate()\n",
    "    print(f\"Sampling rate: {sampling_rate} Hz\")"
   ]
  },
  {
   "cell_type": "code",
   "execution_count": 11,
   "metadata": {},
   "outputs": [],
   "source": [
    "def load_audio(file_path):\n",
    "    audio, _ = librosa.load(file_path, sr=sampling_rate)\n",
    "    return audio"
   ]
  },
  {
   "cell_type": "code",
   "execution_count": 12,
   "metadata": {},
   "outputs": [],
   "source": [
    "def plot_audio(audio):\n",
    "    plt.figure(figsize=(12, 4))\n",
    "    librosa.display.waveshow(audio, sr=sampling_rate)\n",
    "    plt.grid()\n",
    "    plt.show()"
   ]
  },
  {
   "cell_type": "code",
   "execution_count": 13,
   "metadata": {},
   "outputs": [
    {
     "data": {
      "image/png": "[encoded data removed]",
      "text/plain": [
       "<Figure size 1200x400 with 1 Axes>"
      ]
     },
     "metadata": {},
     "output_type": "display_data"
    }
   ],
   "source": [
    "test_audio = load_audio(dataframe.FilePath[3])\n",
    "plot_audio(test_audio)\n",
    "\n"
   ]
  },
  {
   "cell_type": "markdown",
   "metadata": {},
   "source": [
    "# 3. Feature Extraction"
   ]
  },
  {
   "cell_type": "markdown",
   "metadata": {},
   "source": [
    "### 3.1 Mel-Frequency Cepstral Coefficients (MFCCs)"
   ]
  },
  {
   "cell_type": "code",
   "execution_count": 46,
   "metadata": {},
   "outputs": [],
   "source": [
    "def extract_mfcc(audio_path, sr=48000, n_mfcc=40):\n",
    "    audio = load_audio(audio_path)\n",
    "    mfcc = librosa.feature.mfcc(y=audio, sr=sr, n_mfcc=n_mfcc)\n",
    "    return np.mean(mfcc.T, axis=0) "
   ]
  },
  {
   "cell_type": "code",
   "execution_count": 47,
   "metadata": {},
   "outputs": [],
   "source": [
    "mfcc = extract_mfcc(dataframe.FilePath[3])\n"
   ]
  },
  {
   "cell_type": "code",
   "execution_count": 48,
   "metadata": {},
   "outputs": [
    {
     "data": {
      "text/plain": [
       "(40,)"
      ]
     },
     "execution_count": 48,
     "metadata": {},
     "output_type": "execute_result"
    }
   ],
   "source": [
    "mfcc.shape"
   ]
  },
  {
   "cell_type": "markdown",
   "metadata": {},
   "source": []
  }
 ],
 "metadata": {
  "kernelspec": {
   "display_name": "deeplearning",
   "language": "python",
   "name": "python3"
  },
  "language_info": {
   "codemirror_mode": {
    "name": "ipython",
    "version": 3
   },
   "file_extension": ".py",
   "mimetype": "text/x-python",
   "name": "python",
   "nbconvert_exporter": "python",
   "pygments_lexer": "ipython3",
   "version": "3.12.3"
  }
 },
 "nbformat": 4,
 "nbformat_minor": 2
}
